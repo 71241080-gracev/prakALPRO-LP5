{
 "cells": [
  {
   "cell_type": "code",
   "execution_count": 5,
   "id": "b93dbe2f-85a6-42e7-b96a-1b48478ee367",
   "metadata": {},
   "outputs": [
    {
     "name": "stdin",
     "output_type": "stream",
     "text": [
      "Masukkan bilangan1:  5\n",
      "Masukkan bilangan2:  5\n",
      "Masukkan bilangan3:  10\n"
     ]
    },
    {
     "name": "stdout",
     "output_type": "stream",
     "text": [
      "False\n"
     ]
    }
   ],
   "source": [
    "def cek_angka():\n",
    "    a=int(input(\"Masukkan bilangan1: \"))\n",
    "    b=int(input(\"Masukkan bilangan2: \"))\n",
    "    c=int(input(\"Masukkan bilangan3: \"))\n",
    "    if a!=b and b!=c and a!=c:\n",
    "        if a+b==c or a+c==b or b+c==a:\n",
    "            return \"True\"\n",
    "        else:\n",
    "            return \"False\"\n",
    "    else:\n",
    "            return \"False\"\n",
    "hasil=cek_angka()\n",
    "print(hasil)"
   ]
  },
  {
   "cell_type": "code",
   "execution_count": 6,
   "id": "2eac9dbb-4822-4d48-9dae-6caa10125149",
   "metadata": {},
   "outputs": [
    {
     "name": "stdin",
     "output_type": "stream",
     "text": [
      "Masukkan bilangan1:  2\n",
      "Masukkan bilangan2:  8\n",
      "Masukkan bilangan3:  10\n"
     ]
    },
    {
     "name": "stdout",
     "output_type": "stream",
     "text": [
      "True\n"
     ]
    }
   ],
   "source": [
    "def cek_angka():\n",
    "    a=int(input(\"Masukkan bilangan1: \"))\n",
    "    b=int(input(\"Masukkan bilangan2: \"))\n",
    "    c=int(input(\"Masukkan bilangan3: \"))\n",
    "    if a!=b and b!=c and a!=c:\n",
    "        if a+b==c or a+c==b or b+c==a:\n",
    "            return \"True\"\n",
    "        else:\n",
    "            return \"False\"\n",
    "    else:\n",
    "            return \"False\"\n",
    "hasil=cek_angka()\n",
    "print(hasil)"
   ]
  },
  {
   "cell_type": "code",
   "execution_count": 7,
   "id": "2c1bb46b-16b7-421c-9e72-cdd68af7a369",
   "metadata": {},
   "outputs": [
    {
     "name": "stdin",
     "output_type": "stream",
     "text": [
      "Masukkan bilangan1:  7\n",
      "Masukkan bilangan2:  8\n",
      "Masukkan bilangan3:  90\n"
     ]
    },
    {
     "name": "stdout",
     "output_type": "stream",
     "text": [
      "False\n"
     ]
    }
   ],
   "source": [
    "def cek_angka():\n",
    "    a=int(input(\"Masukkan bilangan1: \"))\n",
    "    b=int(input(\"Masukkan bilangan2: \"))\n",
    "    c=int(input(\"Masukkan bilangan3: \"))\n",
    "    if a!=b and b!=c and a!=c:\n",
    "        if a+b==c or a+c==b or b+c==a:\n",
    "            return \"True\"\n",
    "        else:\n",
    "            return \"False\"\n",
    "    else:\n",
    "            return \"False\"\n",
    "hasil=cek_angka()\n",
    "print(hasil)"
   ]
  },
  {
   "cell_type": "code",
   "execution_count": 8,
   "id": "ea38549b-9dda-4a85-8d1f-d73c1430db3b",
   "metadata": {},
   "outputs": [
    {
     "name": "stdin",
     "output_type": "stream",
     "text": [
      "Masukkan bilangan1:  8\n",
      "Masukkan bilangan2:  3\n",
      "Masukkan bilangan3:  5\n"
     ]
    },
    {
     "name": "stdout",
     "output_type": "stream",
     "text": [
      "True\n"
     ]
    }
   ],
   "source": [
    "def cek_angka():\n",
    "    a=int(input(\"Masukkan bilangan1: \"))\n",
    "    b=int(input(\"Masukkan bilangan2: \"))\n",
    "    c=int(input(\"Masukkan bilangan3: \"))\n",
    "    if a!=b and b!=c and a!=c:\n",
    "        if a+b==c or a+c==b or b+c==a:\n",
    "            return \"True\"\n",
    "        else:\n",
    "            return \"False\"\n",
    "    else:\n",
    "            return \"False\"\n",
    "hasil=cek_angka()\n",
    "print(hasil)"
   ]
  },
  {
   "cell_type": "code",
   "execution_count": 9,
   "id": "36191f53-23bc-458b-ba94-e9ea3d8e5e33",
   "metadata": {},
   "outputs": [
    {
     "name": "stdin",
     "output_type": "stream",
     "text": [
      "Masukkan bilangan1:  5\n",
      "Masukkan bilangan2:  7\n",
      "Masukkan bilangan3:  2\n"
     ]
    },
    {
     "name": "stdout",
     "output_type": "stream",
     "text": [
      "True\n"
     ]
    }
   ],
   "source": [
    "def cek_angka():\n",
    "    a=int(input(\"Masukkan bilangan1: \"))\n",
    "    b=int(input(\"Masukkan bilangan2: \"))\n",
    "    c=int(input(\"Masukkan bilangan3: \"))\n",
    "    if a!=b and b!=c and a!=c:\n",
    "        if a+b==c or a+c==b or b+c==a:\n",
    "            return \"True\"\n",
    "        else:\n",
    "            return \"False\"\n",
    "    else:\n",
    "            return \"False\"\n",
    "hasil=cek_angka()\n",
    "print(hasil)"
   ]
  }
 ],
 "metadata": {
  "kernelspec": {
   "display_name": "Python 3 (ipykernel)",
   "language": "python",
   "name": "python3"
  },
  "language_info": {
   "codemirror_mode": {
    "name": "ipython",
    "version": 3
   },
   "file_extension": ".py",
   "mimetype": "text/x-python",
   "name": "python",
   "nbconvert_exporter": "python",
   "pygments_lexer": "ipython3",
   "version": "3.12.7"
  }
 },
 "nbformat": 4,
 "nbformat_minor": 5
}
