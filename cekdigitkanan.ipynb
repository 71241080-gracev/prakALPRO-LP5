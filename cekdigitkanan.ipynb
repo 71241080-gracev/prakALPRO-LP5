{
 "cells": [
  {
   "cell_type": "code",
   "execution_count": 1,
   "id": "0b8db06a-4f8d-4177-bab4-9c169d918d29",
   "metadata": {},
   "outputs": [
    {
     "name": "stdin",
     "output_type": "stream",
     "text": [
      "Masukkan bilangan1:  30\n",
      "Masukkan bilangan2:  20\n",
      "Masukkan bilangan3:  18\n"
     ]
    },
    {
     "name": "stdout",
     "output_type": "stream",
     "text": [
      "True\n"
     ]
    }
   ],
   "source": [
    "def cek_digit_kanan():\n",
    "    a=int(input(\"Masukkan bilangan1: \"))\n",
    "    b=int(input(\"Masukkan bilangan2: \"))\n",
    "    c=int(input(\"Masukkan bilangan3: \"))\n",
    "    if a%10==b%10 or a%10==c%10 or b%10==c%10:\n",
    "        return \"True\"\n",
    "    else:\n",
    "        return \"False\"\n",
    "hasil=cek_digit_kanan()\n",
    "print(hasil)"
   ]
  },
  {
   "cell_type": "code",
   "execution_count": 2,
   "id": "2bcca91c-5bdb-4256-b1ba-beeff447d67e",
   "metadata": {},
   "outputs": [
    {
     "name": "stdin",
     "output_type": "stream",
     "text": [
      "Masukkan bilangan1:  145\n",
      "Masukkan bilangan2:  5\n",
      "Masukkan bilangan3:  100\n"
     ]
    },
    {
     "name": "stdout",
     "output_type": "stream",
     "text": [
      "True\n"
     ]
    }
   ],
   "source": [
    "def cek_digit_kanan():\n",
    "    a=int(input(\"Masukkan bilangan1: \"))\n",
    "    b=int(input(\"Masukkan bilangan2: \"))\n",
    "    c=int(input(\"Masukkan bilangan3: \"))\n",
    "    if a%10==b%10 or a%10==c%10 or b%10==c%10:\n",
    "        return \"True\"\n",
    "    else:\n",
    "        return \"False\"\n",
    "hasil=cek_digit_kanan()\n",
    "print(hasil)"
   ]
  },
  {
   "cell_type": "code",
   "execution_count": 3,
   "id": "71c8a063-2082-4597-8254-4c63eebfe02c",
   "metadata": {},
   "outputs": [
    {
     "name": "stdin",
     "output_type": "stream",
     "text": [
      "Masukkan bilangan1:  71\n",
      "Masukkan bilangan2:  187\n",
      "Masukkan bilangan3:  18\n"
     ]
    },
    {
     "name": "stdout",
     "output_type": "stream",
     "text": [
      "False\n"
     ]
    }
   ],
   "source": [
    "def cek_digit_kanan():\n",
    "    a=int(input(\"Masukkan bilangan1: \"))\n",
    "    b=int(input(\"Masukkan bilangan2: \"))\n",
    "    c=int(input(\"Masukkan bilangan3: \"))\n",
    "    if a%10==b%10 or a%10==c%10 or b%10==c%10:\n",
    "        return \"True\"\n",
    "    else:\n",
    "        return \"False\"\n",
    "hasil=cek_digit_kanan()\n",
    "print(hasil)"
   ]
  },
  {
   "cell_type": "code",
   "execution_count": 4,
   "id": "1a4a70a7-1ee0-433a-907e-49862f3a58ef",
   "metadata": {},
   "outputs": [
    {
     "name": "stdin",
     "output_type": "stream",
     "text": [
      "Masukkan bilangan1:  1024\n",
      "Masukkan bilangan2:  14\n",
      "Masukkan bilangan3:  94\n"
     ]
    },
    {
     "name": "stdout",
     "output_type": "stream",
     "text": [
      "True\n"
     ]
    }
   ],
   "source": [
    "def cek_digit_kanan():\n",
    "    a=int(input(\"Masukkan bilangan1: \"))\n",
    "    b=int(input(\"Masukkan bilangan2: \"))\n",
    "    c=int(input(\"Masukkan bilangan3: \"))\n",
    "    if a%10==b%10 or a%10==c%10 or b%10==c%10:\n",
    "        return \"True\"\n",
    "    else:\n",
    "        return \"False\"\n",
    "hasil=cek_digit_kanan()\n",
    "print(hasil)"
   ]
  },
  {
   "cell_type": "code",
   "execution_count": 5,
   "id": "0efccdb7-e2f6-44e6-bc31-5832ff495c81",
   "metadata": {},
   "outputs": [
    {
     "name": "stdin",
     "output_type": "stream",
     "text": [
      "Masukkan bilangan1:  53\n",
      "Masukkan bilangan2:  8900\n",
      "Masukkan bilangan3:  658\n"
     ]
    },
    {
     "name": "stdout",
     "output_type": "stream",
     "text": [
      "False\n"
     ]
    }
   ],
   "source": [
    "def cek_digit_kanan():\n",
    "    a=int(input(\"Masukkan bilangan1: \"))\n",
    "    b=int(input(\"Masukkan bilangan2: \"))\n",
    "    c=int(input(\"Masukkan bilangan3: \"))\n",
    "    if a%10==b%10 or a%10==c%10 or b%10==c%10:\n",
    "        return \"True\"\n",
    "    else:\n",
    "        return \"False\"\n",
    "hasil=cek_digit_kanan()\n",
    "print(hasil)"
   ]
  }
 ],
 "metadata": {
  "kernelspec": {
   "display_name": "Python 3 (ipykernel)",
   "language": "python",
   "name": "python3"
  },
  "language_info": {
   "codemirror_mode": {
    "name": "ipython",
    "version": 3
   },
   "file_extension": ".py",
   "mimetype": "text/x-python",
   "name": "python",
   "nbconvert_exporter": "python",
   "pygments_lexer": "ipython3",
   "version": "3.12.7"
  }
 },
 "nbformat": 4,
 "nbformat_minor": 5
}
