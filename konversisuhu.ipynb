{
 "cells": [
  {
   "cell_type": "code",
   "execution_count": 1,
   "id": "adc072ff-3ebf-4cec-b9da-6b512001399d",
   "metadata": {},
   "outputs": [
    {
     "name": "stdout",
     "output_type": "stream",
     "text": [
      "F = 212\n",
      "F = 32\n",
      "R = 64\n"
     ]
    }
   ],
   "source": [
    "celciustoF=lambda C:(9/5)*C+32\n",
    "print(\"F =\", (int(celciustoF(100))))\n",
    "print(\"F =\", (int(celciustoF(0))))\n",
    "celciustoR=lambda C:0.8*C\n",
    "print(\"R =\", (int(celciustoR(80))))"
   ]
  },
  {
   "cell_type": "code",
   "execution_count": 2,
   "id": "dad3e601-781a-4f81-b140-465f9a0fdcb6",
   "metadata": {},
   "outputs": [
    {
     "name": "stdin",
     "output_type": "stream",
     "text": [
      "masukakan suhu dalam celcius:  29.7\n"
     ]
    },
    {
     "name": "stdout",
     "output_type": "stream",
     "text": [
      "F = 85\n",
      "R = 23\n"
     ]
    }
   ],
   "source": [
    "celcius=float(input(\"masukakan suhu dalam celcius: \"))\n",
    "print(\"F =\", (int(celciustoF(celcius))))\n",
    "print(\"R =\", (int(celciustoR(celcius))))"
   ]
  }
 ],
 "metadata": {
  "kernelspec": {
   "display_name": "Python 3 (ipykernel)",
   "language": "python",
   "name": "python3"
  },
  "language_info": {
   "codemirror_mode": {
    "name": "ipython",
    "version": 3
   },
   "file_extension": ".py",
   "mimetype": "text/x-python",
   "name": "python",
   "nbconvert_exporter": "python",
   "pygments_lexer": "ipython3",
   "version": "3.12.7"
  }
 },
 "nbformat": 4,
 "nbformat_minor": 5
}
